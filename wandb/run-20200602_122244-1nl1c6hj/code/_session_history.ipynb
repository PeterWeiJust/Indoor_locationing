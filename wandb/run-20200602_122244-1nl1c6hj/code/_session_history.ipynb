{
 "cells": [
  {
   "cell_type": "code",
   "execution_count": 1,
   "metadata": {},
   "outputs": [],
   "source": [
    "runfile('C:/Users/weixi/Documents/GitHub/Indoor_locationing/sensor_baseline_keras.py', wdir='C:/Users/weixi/Documents/GitHub/Indoor_locationing')"
   ]
  },
  {
   "cell_type": "code",
   "execution_count": 2,
   "metadata": {},
   "outputs": [
    {
     "name": "stdout",
     "output_type": "stream",
     "text": [
      "Text(0.5, 1.0, 'mmloc_bucharest Prediction')"
     ]
    }
   ],
   "source": [
    "fig1=plt.figure()\r\n",
    "locPrediction = model.predict(SensorTest, batch_size=100)\r\n",
    "aveLocPrediction = pf.get_ave_prediction(locPrediction, 100)\r\n",
    "data=pf.normalized_data_to_utm(np.hstack((locationtest, aveLocPrediction)))\r\n",
    "plt.plot(data[:,0],data[:,1],'b',data[:,2],data[:,3],'r')\r\n",
    "plt.legend(['target','prediction'],loc='upper right')\r\n",
    "plt.xlabel(\"x-latitude\")\r\n",
    "plt.ylabel(\"y-longitude\")\r\n",
    "plt.title(str(model_name)+\" Prediction\")"
   ]
  },
  {
   "cell_type": "code",
   "execution_count": 3,
   "metadata": {},
   "outputs": [],
   "source": [
    "runfile('C:/Users/weixi/Documents/GitHub/Indoor_locationing/sensor_baseline_keras.py', wdir='C:/Users/weixi/Documents/GitHub/Indoor_locationing')"
   ]
  }
 ],
 "metadata": {
  "kernelspec": {
   "display_name": "Python 3",
   "language": "python",
   "name": "python3"
  },
  "language_info": {
   "codemirror_mode": {
    "name": "ipython",
    "version": 3
   },
   "file_extension": ".py",
   "mimetype": "text/x-python",
   "name": "python",
   "nbconvert_exporter": "python",
   "pygments_lexer": "ipython3",
   "version": "3.6.10"
  }
 },
 "nbformat": 4,
 "nbformat_minor": 4
}
