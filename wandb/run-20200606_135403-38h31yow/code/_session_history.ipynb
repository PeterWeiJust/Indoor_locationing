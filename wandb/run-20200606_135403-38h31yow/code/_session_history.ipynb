{
 "cells": [
  {
   "cell_type": "code",
   "execution_count": 1,
   "metadata": {},
   "outputs": [],
   "source": [
    "runfile('C:/Users/weixi/Documents/GitHub/Indoor_locationing/wifi_classification_DNN_training.py', wdir='C:/Users/weixi/Documents/GitHub/Indoor_locationing')"
   ]
  },
  {
   "cell_type": "code",
   "execution_count": 2,
   "metadata": {},
   "outputs": [],
   "source": [
    "\r\n",
    "\"\"\"\r\n",
    "Created on Thu Feb 27 12:01:12 2020\r\n",
    "\r\n",
    "@author: mwei_archor\r\n",
    "\"\"\"\r\n",
    "\r\n",
    "import os\r\n",
    "import numpy as np\r\n",
    "import matplotlib.pyplot as plt\r\n",
    "import math\r\n",
    "import json\r\n",
    "import tensorflow as tf\r\n",
    "import plotting_functions as pf\r\n",
    "import pandas as pd\r\n",
    "import wandb\r\n",
    "from keras import metrics\r\n",
    "from keras.models import Sequential,Model,load_model\r\n",
    "from keras.layers import Dense, concatenate, LSTM, TimeDistributed,Input,Dropout\r\n",
    "from sklearn.preprocessing import MinMaxScaler\r\n",
    "from sklearn.metrics import mean_squared_error\r\n",
    "from keras.optimizers import Adam, RMSprop,SGD\r\n",
    "from keras.utils import plot_model\r\n",
    "from keras.callbacks import EarlyStopping, Callback, TensorBoard\r\n",
    "from data_functions import DownsampleDataset,WifiDataset\r\n",
    "from keras.utils import np_utils\r\n",
    "from wandb.keras import WandbCallback\r\n",
    "\r\n",
    "np.random.seed(7)\r\n",
    "\r\n",
    "# Hyper-parameters\r\n",
    "wifi_input_size = 193\r\n",
    "batch_size = 100\r\n",
    "hidden_size = 128\r\n",
    "output_dim = 2\r\n",
    "learning_rate = 0.001\r\n",
    "epoch=50\r\n",
    "\r\n",
    "model_name = \"wifiDNN_classification_bucharest_training\"\r\n",
    "\r\n",
    "wandb.init(entity=\"mmloc\",project=model_name,sync_tensorboard=True,\r\n",
    "           config={\"epochs\": epoch,\"batch_size\": batch_size,\"hidden_size\":hidden_size,\r\n",
    "                   \"learning_rate\":learning_rate,\r\n",
    "                   \"output_dim\":output_dim,\r\n",
    "                   }\r\n",
    "           )\r\n",
    "\r\n",
    "training=WifiDataset()\r\n",
    "WifiTrain=training.trainx\r\n",
    "locationlabel=training.trainy\r\n",
    "\r\n",
    "WifiVal=training.valx\r\n",
    "locationval=training.valy\r\n",
    "\r\n",
    "WifiTest=training.testx\r\n",
    "locationtest=training.testy\r\n",
    "\r\n",
    "location=np.concatenate([locationlabel,locationval])"
   ]
  }
 ],
 "metadata": {
  "kernelspec": {
   "display_name": "Python 3",
   "language": "python",
   "name": "python3"
  },
  "language_info": {
   "codemirror_mode": {
    "name": "ipython",
    "version": 3
   },
   "file_extension": ".py",
   "mimetype": "text/x-python",
   "name": "python",
   "nbconvert_exporter": "python",
   "pygments_lexer": "ipython3",
   "version": "3.6.10"
  }
 },
 "nbformat": 4,
 "nbformat_minor": 4
}
