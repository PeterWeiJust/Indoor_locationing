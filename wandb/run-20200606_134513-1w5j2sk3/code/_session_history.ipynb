{
 "cells": [
  {
   "cell_type": "code",
   "execution_count": 1,
   "metadata": {},
   "outputs": [],
   "source": [
    "runfile('C:/Users/weixi/Documents/GitHub/Indoor_locationing/wifi_classification_SVM_testing.py', wdir='C:/Users/weixi/Documents/GitHub/Indoor_locationing')"
   ]
  },
  {
   "cell_type": "code",
   "execution_count": 2,
   "metadata": {},
   "outputs": [],
   "source": [
    "runfile('C:/Users/weixi/Documents/GitHub/Indoor_locationing/wifi_classification_DNN_training.py', wdir='C:/Users/weixi/Documents/GitHub/Indoor_locationing')"
   ]
  }
 ],
 "metadata": {
  "kernelspec": {
   "display_name": "Python 3",
   "language": "python",
   "name": "python3"
  },
  "language_info": {
   "codemirror_mode": {
    "name": "ipython",
    "version": 3
   },
   "file_extension": ".py",
   "mimetype": "text/x-python",
   "name": "python",
   "nbconvert_exporter": "python",
   "pygments_lexer": "ipython3",
   "version": "3.6.10"
  }
 },
 "nbformat": 4,
 "nbformat_minor": 4
}
