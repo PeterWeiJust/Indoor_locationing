{
 "cells": [
  {
   "cell_type": "code",
   "execution_count": 1,
   "metadata": {},
   "outputs": [],
   "source": [
    "import os\n",
    "import numpy as np\n",
    "import matplotlib.pyplot as plt\n",
    "import math\n",
    "import json\n",
    "import tensorflow as tf\n",
    "import plotting_functions as pf\n",
    "import pandas as pd\n",
    "import wandb\n",
    "from keras import metrics\n",
    "from keras.models import Sequential,Model,load_model\n",
    "from keras.layers import Dense, concatenate, LSTM, TimeDistributed,Input,Dropout\n",
    "from sklearn.preprocessing import MinMaxScaler\n",
    "from sklearn.metrics import mean_squared_error\n",
    "from keras.optimizers import Adam, RMSprop,SGD\n",
    "from keras.utils import plot_model\n",
    "from keras.callbacks import EarlyStopping, Callback, TensorBoard\n",
    "from data_functions import DownsampleDataset,WifiDataset,WifiClusterDataset\n",
    "from keras.utils import np_utils\n",
    "from wandb.keras import WandbCallback\n",
    "\n",
    "np.random.seed(7)\n",
    "\n",
    "# Hyper-parameters\n",
    "wifi_input_size = 193\n",
    "batch_size = 100\n",
    "hidden_size = 128\n",
    "output_dim = 1\n",
    "learning_rate = 0.001\n",
    "epoch=5\n",
    "\n",
    "model_name = \"wifiClass_bucharest\"\n",
    "\n",
    "wandb.init(entity=\"mmloc\",project=model_name,sync_tensorboard=True,\n",
    "           config={\"epochs\": epoch,\"batch_size\": batch_size,\"hidden_size\":hidden_size,\n",
    "                   \"learning_rate\":learning_rate,\n",
    "                   \"output_dim\":output_dim,\n",
    "                   }\n",
    "           )\n",
    "\n",
    "training=WifiClusterDataset()\n",
    "WifiTrain=training.trainx\n",
    "locationlabel=training.trainy\n",
    "\n",
    "WifiVal=training.valx\n",
    "locationval=training.valy\n",
    "\n",
    "WifiTest=training.testx\n",
    "locationtest=training.testy\n",
    "\n",
    "location=np.concatenate([locationlabel,locationval])\n",
    "mins=min(np.unique(location,axis=0))\n",
    "locationlabel=np_utils.to_categorical(locationlabel-mins)\n",
    "locationval=np_utils.to_categorical(locationval-mins)\n",
    "\n",
    "output_dim=locationlabel.shape[1]"
   ]
  },
  {
   "cell_type": "code",
   "execution_count": 2,
   "metadata": {},
   "outputs": [],
   "source": [
    "runfile('/Users/weixijia/Indoor_locationing/wifi_class_keras.py', wdir='/Users/weixijia/Indoor_locationing')"
   ]
  }
 ],
 "metadata": {
  "kernelspec": {
   "display_name": "Python 3",
   "language": "python",
   "name": "python3"
  },
  "language_info": {
   "codemirror_mode": {
    "name": "ipython",
    "version": 3
   },
   "file_extension": ".py",
   "mimetype": "text/x-python",
   "name": "python",
   "nbconvert_exporter": "python",
   "pygments_lexer": "ipython3",
   "version": "3.6.10"
  }
 },
 "nbformat": 4,
 "nbformat_minor": 4
}
